{
 "cells": [
  {
   "cell_type": "code",
   "execution_count": 1,
   "metadata": {},
   "outputs": [],
   "source": [
    "import matplotlib as mpl\n",
    "import matplotlib.pyplot as plt\n",
    "import seaborn; seaborn.set()\n",
    "plt.ion()"
   ]
  },
  {
   "cell_type": "code",
   "execution_count": 2,
   "metadata": {},
   "outputs": [],
   "source": [
    "from sklearn.feature_extraction.text import TfidfVectorizer\n",
    "from sklearn import cluster \n",
    "import sys\n",
    "import numpy as np\n",
    "import csv\n",
    "\n",
    "path_to_mitie_lib = '/opt/anaconda/anaconda3/lib/python3.6/site-packages/mitie'\n",
    "path_to_ner_model = '/home/somnus/MITIE-master/MITIE-models/english/ner_model.dat'\n",
    "\n",
    "sys.path.append(path_to_mitie_lib)\n",
    "\n",
    "from mitie import *\n",
    "from itertools import cycle, islice\n",
    "from sklearn.decomposition import PCA"
   ]
  },
  {
   "cell_type": "code",
   "execution_count": 3,
   "metadata": {},
   "outputs": [],
   "source": [
    "from sklearn.metrics.pairwise import pairwise_kernels\n",
    "from sklearn.utils import check_random_state, check_symmetric, check_array\n",
    "from scipy import sparse"
   ]
  },
  {
   "cell_type": "code",
   "execution_count": 4,
   "metadata": {},
   "outputs": [],
   "source": [
    "from sklearn.manifold.spectral_embedding_ import _graph_is_connected, _set_diag\n",
    "import warnings"
   ]
  },
  {
   "cell_type": "code",
   "execution_count": 5,
   "metadata": {},
   "outputs": [],
   "source": [
    "from sklearn.neighbors import kneighbors_graph"
   ]
  },
  {
   "cell_type": "code",
   "execution_count": 6,
   "metadata": {},
   "outputs": [],
   "source": [
    "from sklearn.metrics import silhouette_samples, silhouette_score"
   ]
  },
  {
   "cell_type": "code",
   "execution_count": 7,
   "metadata": {},
   "outputs": [],
   "source": [
    "ner = named_entity_extractor(path_to_ner_model)"
   ]
  },
  {
   "cell_type": "code",
   "execution_count": 8,
   "metadata": {},
   "outputs": [],
   "source": [
    "# total number of articles to process\n",
    "N = 662\n",
    "\n",
    "# in memory stores for the topics, titles and contents of the news stories\n",
    "# topics_array = []\n",
    "titles_array = []\n",
    "corpus = []"
   ]
  },
  {
   "cell_type": "code",
   "execution_count": 9,
   "metadata": {},
   "outputs": [],
   "source": [
    "# Correct this for titles a\n",
    "\n",
    "file_path = ['data_sets/articles_1/article-',\n",
    "             'data_sets/sci_art/article-',\n",
    "             '/home/somnus/data_sets/DataSet/article-',\n",
    "            '/home/somnus/data_sets/nyt/Cclimate/article-']"
   ]
  },
  {
   "cell_type": "code",
   "execution_count": 10,
   "metadata": {},
   "outputs": [],
   "source": [
    "for i in range(0, N):\n",
    "\n",
    "    # get the contents of the article\n",
    "    # art = '/home/somnus/data_sets/articles/article-' + str(i) + '.txt'\n",
    "    x = str(i)\n",
    "    with open(file_path[3] + x + '.txt', 'r') as myfile:\n",
    "        d1 = myfile.read()\n",
    "        d1 = d1.lower()\n",
    "        corpus.append(d1)\n",
    "\n",
    "    # get the title of the article\n",
    "    # titl = '/home/somnus/data_sets/articles/title-' + str(i) + '.txt'\n",
    "    with open(file_path[3] + x + '.txt', 'r') as myfile:\n",
    "        ti1 = myfile.read()\n",
    "        ti1 = ti1.lower()\n",
    "        titles_array.append(ti1)\n"
   ]
  },
  {
   "cell_type": "code",
   "execution_count": 11,
   "metadata": {},
   "outputs": [],
   "source": [
    "entity_text_array = []\n",
    "\n",
    "for i in range(0, N):\n",
    "\n",
    "    # Load the article contents text file and convert it into a list of words.\n",
    "    tokens = tokenize(corpus[i])\n",
    "    #tokens = tokenize(corpus)\n",
    "\n",
    "\n",
    "    # extract all entities known to the ner model mentioned in this article\n",
    "    entities = ner.extract_entities(tokens)\n",
    "\n",
    "    # extract the actual entity words and append to the array\n",
    "    for e in entities:\n",
    "        range_array = e[0]\n",
    "        tag = e[1]\n",
    "        score = e[2]\n",
    "        score_text = \"{:0.3f}\".format(score)\n",
    "        # entity_text = \" \".join(tokens[j] for j in range_array)\n",
    "        entity_text = \" \".join(tokens[i].decode() for i in range_array)\n",
    "        entity_text_array.append(entity_text.lower())\n",
    "        \n",
    "# remove duplicate entities detected\n",
    "entity_text_array = np.unique(entity_text_array)\n"
   ]
  },
  {
   "cell_type": "code",
   "execution_count": 13,
   "metadata": {},
   "outputs": [],
   "source": [
    "vect = TfidfVectorizer(sublinear_tf=True,\n",
    "                       max_df=0.5,\n",
    "                       analyzer='word',\n",
    "                       stop_words='english',\n",
    "                       vocabulary=entity_text_array)\n",
    "\n",
    "# corpus_tf_idf = vect.fit_transform(corpus)\n",
    "data2D = vect.fit_transform(corpus).todense()\n",
    "#X = vect.fit_transform(corpus).todense()"
   ]
  },
  {
   "cell_type": "code",
   "execution_count": 13,
   "metadata": {},
   "outputs": [],
   "source": [
    "#pca = PCA(n_components=2).fit(X)\n",
    "#data2D = pca.transform(X)"
   ]
  },
  {
   "cell_type": "code",
   "execution_count": 14,
   "metadata": {},
   "outputs": [],
   "source": [
    "def spectral_clustering(affinity, n_clusters=8, n_components=None,\n",
    "                        eigen_solver=None, random_state=None, n_init=10,\n",
    "                        eigen_tol=0.0, assign_labels='kmeans', normed='False'):\n",
    "    if assign_labels not in ('kmeans', 'discretize'):\n",
    "        raise ValueError(\"The 'assign_labels' parameter should be \"\n",
    "                     \"'kmeans' or 'discretize', but '%s' was given\"\n",
    "                     % assign_labels)\n",
    "\n",
    "    random_state = check_random_state(random_state)\n",
    "    n_components = n_clusters if n_components is None else n_components\n",
    "    maps = spectral_embedding(affinity, n_components=n_components,\n",
    "                              eigen_solver=eigen_solver,\n",
    "                              random_state=random_state,\n",
    "                              eigen_tol=eigen_tol, drop_first=False,\n",
    "                              normed=normed)\n",
    "    if assign_labels == 'kmeans':\n",
    "        _, labels, _ = cluster.k_means(maps, n_clusters, random_state=random_state, n_init=10)\n",
    "\n",
    "    return labels"
   ]
  },
  {
   "cell_type": "code",
   "execution_count": 15,
   "metadata": {},
   "outputs": [],
   "source": [
    "def spectral_embedding(adjacency, n_components=8, eigen_solver=None,\n",
    "                       random_state=None, eigen_tol=0.0,\n",
    "                       norm_laplacian=True, drop_first=True, normed=False):\n",
    "    adjacency = check_symmetric(adjacency)\n",
    "\n",
    "    try:\n",
    "        from pyamg import smoothed_aggregation_solver\n",
    "    except ImportError:\n",
    "        if eigen_solver == \"amg\":\n",
    "            raise ValueError(\"The eigen_solver was set to 'amg', but pyamg is \"\n",
    "                             \"not available.\")\n",
    "\n",
    "    if eigen_solver is None:\n",
    "        eigen_solver = 'arpack'\n",
    "    elif eigen_solver not in ('arpack', 'lobpcg', 'amg'):\n",
    "        raise ValueError(\"Unknown value for eigen_solver: '%s'.\"\n",
    "                         \"Should be 'amg', 'arpack', or 'lobpcg'\"\n",
    "                         % eigen_solver)\n",
    "\n",
    "    random_state = check_random_state(random_state)\n",
    "\n",
    "    n_nodes = adjacency.shape[0]\n",
    "    # Whether to drop the first eigenvector\n",
    "    if drop_first:\n",
    "        n_components = n_components + 1\n",
    "\n",
    "    if not _graph_is_connected(adjacency):\n",
    "        warnings.warn(\"Graph is not fully connected, spectral embedding\"\n",
    "                      \" may not work as expected.\")\n",
    "\n",
    "    laplacian, dd = sparse.csgraph.laplacian(adjacency, normed=normed,\n",
    "                                             return_diag=True)\n",
    "    if (eigen_solver == 'arpack' or eigen_solver != 'lobpcg' and\n",
    "       (not sparse.isspmatrix(laplacian) or n_nodes < 5 * n_components)):\n",
    "\n",
    "        laplacian = _set_diag(laplacian, 1, norm_laplacian)\n",
    "        #print(laplacian)\n",
    "        laplacian_array.append(laplacian)\n",
    "        diag_array.append(dd)\n",
    "\n",
    "        try:\n",
    "\n",
    "            laplacian *= -1\n",
    "            v0 = random_state.uniform(-1, 1, laplacian.shape[0])\n",
    "            lambdas, diffusion_map = sparse.linalg.eigsh(laplacian, k=n_components,\n",
    "                                                         sigma=1.0, which='LM',\n",
    "                                                         tol=eigen_tol, v0=v0)\n",
    "            \n",
    "            eigen_values.append(lambdas)\n",
    "            eigen_vectors.append(diffusion_map)\n",
    "            embedding = diffusion_map.T[n_components::-1] * dd\n",
    "            embedding_array.append(embedding)\n",
    "            \n",
    "            \n",
    "        except RuntimeError:\n",
    "\n",
    "            eigen_solver = \"lobpcg\"\n",
    "            laplacian *= -1\n",
    "    embedding = _deterministic_vector_sign_flip(embedding)\n",
    "    if drop_first:\n",
    "        return embedding[1:n_components].T\n",
    "    else:\n",
    "        return embedding[:n_components].T"
   ]
  },
  {
   "cell_type": "code",
   "execution_count": 23,
   "metadata": {},
   "outputs": [],
   "source": [
    "n_clusters = 3\n",
    "eigen_solver = None\n",
    "random_state = None\n",
    "n_init = 10\n",
    "gamma = 1\n",
    "affinity = 'rbf'\n",
    "n_neighbors = 10\n",
    "eigen_tol = 0.0\n",
    "assign_labels = 'kmeans'\n",
    "degree = 3\n",
    "coef0 = 1\n",
    "kernel_params = None\n",
    "n_jobs = 1\n",
    "lap = False"
   ]
  },
  {
   "cell_type": "code",
   "execution_count": 29,
   "metadata": {},
   "outputs": [],
   "source": [
    "eigen_values = []\n",
    "eigen_vectors = []\n",
    "embedding_array = []\n",
    "laplacian_array = []\n",
    "diag_array = []\n",
    "\n",
    "data2D_checked = check_array(data2D, accept_sparse=['csr', 'csc', 'coo'], dtype=np.float64)\n",
    "\n",
    "if data2D_checked.shape[0] == data2D_checked.shape[1] and self.affinity != \"precomputed\":\n",
    "    warnings.warn(\"The spectral clustering API has changed. ``fit``\"\n",
    "                  \"now constructs an affinity matrix from data. To use\"\n",
    "                  \" a custom affinity matrix, \"\n",
    "                  \"set ``affinity=precomputed``.\")\n",
    "params = kernel_params\n",
    "if params is None:\n",
    "    params = {}\n",
    "if not callable(affinity):\n",
    "    params['gamma'] = 1\n",
    "    params['degree'] = 3\n",
    "    params['coef0'] = 1\n",
    "affinity_matrix_ = pairwise_kernels(data2D_checked, metric=affinity, filter_params=True, **params)\n",
    "\n",
    "random_state = check_random_state(random_state)\n",
    "labels_ = spectral_clustering(affinity_matrix_,\n",
    "                              n_clusters=n_clusters,\n",
    "                              eigen_solver=eigen_solver,\n",
    "                              random_state=random_state,\n",
    "                              n_init=n_init,\n",
    "                              eigen_tol=eigen_tol,\n",
    "                              assign_labels=assign_labels,\n",
    "                             normed='norm_laplacian')\n"
   ]
  },
  {
   "cell_type": "code",
   "execution_count": 30,
   "metadata": {},
   "outputs": [],
   "source": [
    "cluster_assignments = labels_.astype(np.int)\n",
    "data = list()\n",
    "\n",
    "for i in range(0, len(cluster_assignments)):\n",
    "    data.append([int(i), int(cluster_assignments[i]), str(titles_array[i])])\n"
   ]
  },
  {
   "cell_type": "code",
   "execution_count": 31,
   "metadata": {},
   "outputs": [],
   "source": [
    "colors = np.array(list(islice(cycle(['#377eb8', '#ff7f00', '#4daf4a',\n",
    "                                    '#f781bf', '#a65628', '#984ea3',\n",
    "                                    '#999999', '#e41a1c', '#dede00']),\n",
    "                                    int(max(cluster_assignments) + 1))))"
   ]
  },
  {
   "cell_type": "code",
   "execution_count": 32,
   "metadata": {},
   "outputs": [
    {
     "data": {
      "text/plain": [
       "Text(0.5,1,'Spectral Clustering')"
      ]
     },
     "execution_count": 32,
     "metadata": {},
     "output_type": "execute_result"
    },
    {
     "data": {
      "image/png": "[encoded data removed]",
      "text/plain": [
       "<matplotlib.figure.Figure at 0x7f466d3b9f28>"
      ]
     },
     "metadata": {},
     "output_type": "display_data"
    }
   ],
   "source": [
    "x = [data[i][0] for i in range(0, N)]\n",
    "y = [data[j][1] for j in range(0, N)]\n",
    "fig, ax = plt.subplots()\n",
    "\n",
    "ax.scatter(x, y, color=colors[cluster_assignments])\n",
    "ax.set_ylim(-1, 5)\n",
    "ax.set_yticklabels(['0', 'cluster_1', 'cluster_2',\n",
    "               'cluster_3', 'cluster_4',\n",
    "               'cluster_5'])\n",
    "ax.set_title(\"Spectral Clustering\")\n",
    "# fig.savefig('/home/somnus/data_sets/clusters/6artClus.jpg' + str(n_clusters), format='jpg')"
   ]
  },
  {
   "cell_type": "code",
   "execution_count": 22,
   "metadata": {},
   "outputs": [
    {
     "ename": "ValueError",
     "evalue": "Masked arrays must be 1-D",
     "output_type": "error",
     "traceback": [
      "\u001b[0;31m---------------------------------------------------------------------------\u001b[0m",
      "\u001b[0;31mValueError\u001b[0m                                Traceback (most recent call last)",
      "\u001b[0;32m<ipython-input-22-6e8e31f6f70d>\u001b[0m in \u001b[0;36m<module>\u001b[0;34m()\u001b[0m\n\u001b[1;32m      1\u001b[0m \u001b[0mfig1\u001b[0m\u001b[0;34m,\u001b[0m \u001b[0max1\u001b[0m \u001b[0;34m=\u001b[0m \u001b[0mplt\u001b[0m\u001b[0;34m.\u001b[0m\u001b[0msubplots\u001b[0m\u001b[0;34m(\u001b[0m\u001b[0;34m)\u001b[0m\u001b[0;34m\u001b[0m\u001b[0m\n\u001b[0;32m----> 2\u001b[0;31m \u001b[0max1\u001b[0m\u001b[0;34m.\u001b[0m\u001b[0mscatter\u001b[0m\u001b[0;34m(\u001b[0m\u001b[0mdata2D\u001b[0m\u001b[0;34m[\u001b[0m\u001b[0;34m:\u001b[0m\u001b[0;34m,\u001b[0m\u001b[0;36m0\u001b[0m\u001b[0;34m]\u001b[0m\u001b[0;34m,\u001b[0m \u001b[0mdata2D\u001b[0m\u001b[0;34m[\u001b[0m\u001b[0;34m:\u001b[0m\u001b[0;34m,\u001b[0m\u001b[0;36m1\u001b[0m\u001b[0;34m]\u001b[0m\u001b[0;34m,\u001b[0m \u001b[0ms\u001b[0m\u001b[0;34m=\u001b[0m\u001b[0;36m30\u001b[0m\u001b[0;34m,\u001b[0m \u001b[0mcolor\u001b[0m\u001b[0;34m=\u001b[0m\u001b[0mcolors\u001b[0m\u001b[0;34m[\u001b[0m\u001b[0mcluster_assignments\u001b[0m\u001b[0;34m]\u001b[0m\u001b[0;34m)\u001b[0m\u001b[0;34m\u001b[0m\u001b[0m\n\u001b[0m\u001b[1;32m      3\u001b[0m \u001b[0;31m# fig1.savefig('/home/somnus/data_sets/clusters/6art.jpg' + str(n_clusters), format='jpg')\u001b[0m\u001b[0;34m\u001b[0m\u001b[0;34m\u001b[0m\u001b[0m\n",
      "\u001b[0;32m/opt/anaconda/anaconda3/lib/python3.6/site-packages/matplotlib/__init__.py\u001b[0m in \u001b[0;36minner\u001b[0;34m(ax, *args, **kwargs)\u001b[0m\n\u001b[1;32m   1708\u001b[0m                     warnings.warn(msg % (label_namer, func.__name__),\n\u001b[1;32m   1709\u001b[0m                                   RuntimeWarning, stacklevel=2)\n\u001b[0;32m-> 1710\u001b[0;31m             \u001b[0;32mreturn\u001b[0m \u001b[0mfunc\u001b[0m\u001b[0;34m(\u001b[0m\u001b[0max\u001b[0m\u001b[0;34m,\u001b[0m \u001b[0;34m*\u001b[0m\u001b[0margs\u001b[0m\u001b[0;34m,\u001b[0m \u001b[0;34m**\u001b[0m\u001b[0mkwargs\u001b[0m\u001b[0;34m)\u001b[0m\u001b[0;34m\u001b[0m\u001b[0m\n\u001b[0m\u001b[1;32m   1711\u001b[0m         \u001b[0mpre_doc\u001b[0m \u001b[0;34m=\u001b[0m \u001b[0minner\u001b[0m\u001b[0;34m.\u001b[0m\u001b[0m__doc__\u001b[0m\u001b[0;34m\u001b[0m\u001b[0m\n\u001b[1;32m   1712\u001b[0m         \u001b[0;32mif\u001b[0m \u001b[0mpre_doc\u001b[0m \u001b[0;32mis\u001b[0m \u001b[0;32mNone\u001b[0m\u001b[0;34m:\u001b[0m\u001b[0;34m\u001b[0m\u001b[0m\n",
      "\u001b[0;32m/opt/anaconda/anaconda3/lib/python3.6/site-packages/matplotlib/axes/_axes.py\u001b[0m in \u001b[0;36mscatter\u001b[0;34m(self, x, y, s, c, marker, cmap, norm, vmin, vmax, alpha, linewidths, verts, edgecolors, **kwargs)\u001b[0m\n\u001b[1;32m   4061\u001b[0m         \u001b[0mx\u001b[0m\u001b[0;34m,\u001b[0m \u001b[0my\u001b[0m\u001b[0;34m,\u001b[0m \u001b[0ms\u001b[0m\u001b[0;34m,\u001b[0m \u001b[0mc\u001b[0m\u001b[0;34m,\u001b[0m \u001b[0mcolors\u001b[0m\u001b[0;34m,\u001b[0m \u001b[0medgecolors\u001b[0m\u001b[0;34m,\u001b[0m \u001b[0mlinewidths\u001b[0m \u001b[0;34m=\u001b[0m\u001b[0;31m\\\u001b[0m\u001b[0;34m\u001b[0m\u001b[0m\n\u001b[1;32m   4062\u001b[0m             cbook.delete_masked_points(\n\u001b[0;32m-> 4063\u001b[0;31m                 x, y, s, c, colors, edgecolors, linewidths)\n\u001b[0m\u001b[1;32m   4064\u001b[0m \u001b[0;34m\u001b[0m\u001b[0m\n\u001b[1;32m   4065\u001b[0m         \u001b[0mscales\u001b[0m \u001b[0;34m=\u001b[0m \u001b[0ms\u001b[0m   \u001b[0;31m# Renamed for readability below.\u001b[0m\u001b[0;34m\u001b[0m\u001b[0m\n",
      "\u001b[0;32m/opt/anaconda/anaconda3/lib/python3.6/site-packages/matplotlib/cbook/__init__.py\u001b[0m in \u001b[0;36mdelete_masked_points\u001b[0;34m(*args)\u001b[0m\n\u001b[1;32m   1639\u001b[0m             \u001b[0;32mif\u001b[0m \u001b[0misinstance\u001b[0m\u001b[0;34m(\u001b[0m\u001b[0mx\u001b[0m\u001b[0;34m,\u001b[0m \u001b[0mnp\u001b[0m\u001b[0;34m.\u001b[0m\u001b[0mma\u001b[0m\u001b[0;34m.\u001b[0m\u001b[0mMaskedArray\u001b[0m\u001b[0;34m)\u001b[0m\u001b[0;34m:\u001b[0m\u001b[0;34m\u001b[0m\u001b[0m\n\u001b[1;32m   1640\u001b[0m                 \u001b[0;32mif\u001b[0m \u001b[0mx\u001b[0m\u001b[0;34m.\u001b[0m\u001b[0mndim\u001b[0m \u001b[0;34m>\u001b[0m \u001b[0;36m1\u001b[0m\u001b[0;34m:\u001b[0m\u001b[0;34m\u001b[0m\u001b[0m\n\u001b[0;32m-> 1641\u001b[0;31m                     \u001b[0;32mraise\u001b[0m \u001b[0mValueError\u001b[0m\u001b[0;34m(\u001b[0m\u001b[0;34m\"Masked arrays must be 1-D\"\u001b[0m\u001b[0;34m)\u001b[0m\u001b[0;34m\u001b[0m\u001b[0m\n\u001b[0m\u001b[1;32m   1642\u001b[0m             \u001b[0;32melse\u001b[0m\u001b[0;34m:\u001b[0m\u001b[0;34m\u001b[0m\u001b[0m\n\u001b[1;32m   1643\u001b[0m                 \u001b[0mx\u001b[0m \u001b[0;34m=\u001b[0m \u001b[0mnp\u001b[0m\u001b[0;34m.\u001b[0m\u001b[0masarray\u001b[0m\u001b[0;34m(\u001b[0m\u001b[0mx\u001b[0m\u001b[0;34m)\u001b[0m\u001b[0;34m\u001b[0m\u001b[0m\n",
      "\u001b[0;31mValueError\u001b[0m: Masked arrays must be 1-D"
     ]
    },
    {
     "data": {
      "image/png": "[encoded data removed]",
      "text/plain": [
       "<matplotlib.figure.Figure at 0x7f467a35f5c0>"
      ]
     },
     "metadata": {},
     "output_type": "display_data"
    }
   ],
   "source": [
    "fig1, ax1 = plt.subplots()\n",
    "ax1.scatter(data2D[:,0], data2D[:,1], s=30, color=colors[cluster_assignments])\n",
    "# fig1.savefig('/home/somnus/data_sets/clusters/6art.jpg' + str(n_clusters), format='jpg')"
   ]
  },
  {
   "cell_type": "code",
   "execution_count": null,
   "metadata": {},
   "outputs": [],
   "source": [
    "range_n_clusters = [2, 3, 4, 5, 6, 7]"
   ]
  },
  {
   "cell_type": "code",
   "execution_count": null,
   "metadata": {},
   "outputs": [],
   "source": [
    "sil_norm = list()\n",
    "sil_unNorm = list()\n",
    "\n",
    "for n_clusters in range_n_clusters:\n",
    "    # Create a subplot with 1 row and 2 columns\n",
    "    fig, (ax1, ax2) = plt.subplots(1, 2)\n",
    "    fig.set_size_inches(18, 7)\n",
    "\n",
    "    # clusterer = KMeans(n_clusters=n_clusters, random_state=10)\n",
    "    cluster_labels_norm = spectral_clustering(affinity_matrix_,\n",
    "                                         n_clusters=n_clusters,\n",
    "                                         eigen_solver=eigen_solver,\n",
    "                                         random_state=random_state,\n",
    "                                         n_init=n_init,\n",
    "                                         eigen_tol=eigen_tol,\n",
    "                                         assign_labels=assign_labels,\n",
    "                                         normed='norm_laplacian')\n",
    "\n",
    "    cluster_labels_unNorm = spectral_clustering(affinity_matrix_,\n",
    "                                                n_clusters=n_clusters,\n",
    "                                                eigen_solver=eigen_solver,\n",
    "                                                random_state=random_state,\n",
    "                                                n_init=n_init,\n",
    "                                                eigen_tol=eigen_tol,\n",
    "                                                assign_labels=assign_labels,\n",
    "                                                normed=False\n",
    "                                               )\n",
    "\n",
    "    # Labeling the clusters\n",
    "    # centers = clusterer.cluster_centers_\n",
    "    # Draw white circles at cluster centers\n",
    "    # ax2.scatter(centers[:, 0], centers[:, 1], marker='o',\n",
    "    #            c=\"white\", alpha=1, s=200, edgecolor='k')\n",
    "\n",
    "    #for i, c in enumerate(centers):\n",
    "     #   ax2.scatter(c[0], c[1], marker='$%d$' % i, alpha=1,\n",
    "     #               s=50, edgecolor='k')\n",
    "    \n",
    "   \n",
    "    ##FOR UNNORMALIZED LAPLACIAN\n",
    "    silhouette_avg_unNorm = silhouette_score(data2D, cluster_labels_unNorm)\n",
    "    #print(\"For n_clusters =\", n_clusters,\n",
    "    #      \"The average silhouette_score is :\", silhouette_avg1)\n",
    "    colors_unNorm = mpl.cm.spectral(cluster_labels_unNorm.astype(float) / n_clusters)\n",
    "    ax1.scatter(data2D[:, 0], data2D[:, 1], marker='.', s=30, lw=0, alpha=0.7,\n",
    "                c=colors_unNorm, edgecolor='k')\n",
    "    x_unNorm = \"The visualization of the clustered data with Unnormalized laplacian.\\n \\\n",
    "    The average silhouette_score is : \" + str(silhouette_avg_unNorm)\n",
    "    sil_unNorm.append(silhouette_avg_unNorm)\n",
    "    \n",
    "    #FOR NORMALIZED LAPLACIAN\n",
    "    silhouette_avg_norm = silhouette_score(data2D, cluster_labels_norm)\n",
    "    #print(\"For n_clusters =\", n_clusters,\n",
    "    #      \"The average silhouette_score is :\", silhouette_avg2)\n",
    "    colors_norm = mpl.cm.spectral(cluster_labels_norm.astype(float) / n_clusters)\n",
    "    ax2.scatter(data2D[:, 0], data2D[:, 1], marker='.', s=30, lw=0, alpha=0.7,\n",
    "                c=colors_norm, edgecolor='k')\n",
    "    sil_norm.append(silhouette_avg_norm)\n",
    "\n",
    "    x_norm = \"The visualization of the clustered data with Normalized laplacian.\\n \\\n",
    "    The average silhouette_score is : \" + str(silhouette_avg_norm)\n",
    " \n",
    "    \n",
    "    ax1.set_title(x_unNorm)\n",
    "    ax1.set_xlabel(\"Feature space for the 1st feature\")\n",
    "    ax1.set_ylabel(\"Feature space for the 2nd feature\")\n",
    "\n",
    "\n",
    "    ax2.set_title(x_norm)\n",
    "    ax2.set_xlabel(\"Feature space for the 1st feature\")\n",
    "    ax2.set_ylabel(\"Feature space for the 2nd feature\")\n",
    "\n",
    "    plt.suptitle((\"Spectral clustering on sample data of 2224 articles \"\n",
    "                  \"with n_clusters = %d\" % n_clusters),\n",
    "                 fontsize=14, fontweight='bold')\n",
    "    fig.savefig('/home/somnus/data_sets/clusters/new_clus_'+str(n_clusters)+'.jpg')\n",
    "    plt.show()\n",
    "    "
   ]
  },
  {
   "cell_type": "code",
   "execution_count": null,
   "metadata": {},
   "outputs": [],
   "source": [
    "\n",
    "figN, (axUnN, axN) = plt.subplots(1,2)\n",
    "figN.set_size_inches(18, 7)\n",
    "\n",
    "plt.suptitle(\"Silhouette score Vs Number of Clusters line plot\")\n",
    "\n",
    "# For Unnormalized Laplacian\n",
    "axUnN.plot(range_n_clusters, sil_unNorm)\n",
    "axUnN.set_title(\"For Unnormalized Laplacian\")\n",
    "axUnN.set_xlabel(\"Number of Clusters\")\n",
    "axUnN.set_ylabel(\"Silhouette Score\")\n",
    "axUnN.set_yticks([-0.1, 0, 0.1, 0.2, 0.3, 0.4, 0.5, 0.6, 0.7, 0.8])\n",
    "\n",
    "# For Normalized Laplacian\n",
    "axN.plot(range_n_clusters, sil_norm)\n",
    "axN.set_title(\"For Normalized Laplacian\")\n",
    "axN.set_xlabel(\"Number of Clusters\")\n",
    "axN.set_ylabel(\"Silhouette Score\")\n",
    "axN.set_yticks([-0.1, 0, 0.1, 0.2, 0.3, 0.4, 0.5, 0.6, 0.7, 0.8])\n",
    "\n",
    "figN.savefig('/home/somnus/data_sets/clusters/silScore_VS_Clusters.jpg')\n"
   ]
  },
  {
   "cell_type": "code",
   "execution_count": null,
   "metadata": {},
   "outputs": [],
   "source": []
  }
 ],
 "metadata": {
  "kernelspec": {
   "display_name": "Python 3",
   "language": "python",
   "name": "python3"
  },
  "language_info": {
   "codemirror_mode": {
    "name": "ipython",
    "version": 3
   },
   "file_extension": ".py",
   "mimetype": "text/x-python",
   "name": "python",
   "nbconvert_exporter": "python",
   "pygments_lexer": "ipython3",
   "version": "3.6.3"
  }
 },
 "nbformat": 4,
 "nbformat_minor": 2
}
